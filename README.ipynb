{
 "cells": [
  {
   "cell_type": "markdown",
   "id": "efeffdee1d2db9f",
   "metadata": {},
   "source": [
    "# Mic-Suite\n",
    "###### *Your solution to an incredibly specific problem.*\n",
    "## Overview\n",
    "Mic-Suite (formerly VRC-Mic-Suite) is a set of python scripts that perform various audio operations. The main purpose of this project is to put audio and your microphone into a single audio loopback device. I usually use a physical cable, but something like [VB-Cable](https://vb-audio.com/Cable/) will work fine and probably better.\n",
    "## Building\n",
    "The `/source/mic.py` Python script relies upon a `/source/heavyeffects.cpp` which you can run this `Python` snippet to download the `.dll` or `.so` from the `Github` repo, or you can build it yourself."
   ]
  },
  {
   "cell_type": "code",
   "id": "58e7ae3c-ba0c-4aab-87fb-4e8c2ee2b5a5",
   "metadata": {},
   "source": [
    "%%python3\n",
    "import os\n",
    "import requests\n",
    "\n",
    "if os.name == \"nt\":\n",
    "    # URL to the release asset (direct download link)\n",
    "    url = \"https://github.com/average-game-dev/Mic-Suite/releases/download/vA.A.A/windows_heavyeffects64.dll\"\n",
    "\n",
    "    # Local filename\n",
    "    local_filename = \"heavyeffects.dll\"\n",
    "\n",
    "    # Stream download to avoid using too much memory\n",
    "    with requests.get(url, stream=True) as r:\n",
    "        r.raise_for_status()\n",
    "        with open(local_filename, \"wb\") as f:\n",
    "            for chunk in r.iter_content(chunk_size=8192):\n",
    "                f.write(chunk)\n",
    "\n",
    "    print(f\"Downloaded {local_filename}\")"
   ],
   "outputs": [],
   "execution_count": null
  },
  {
   "cell_type": "markdown",
   "id": "36dbf968-cf59-4c6b-a221-1bf91118798d",
   "metadata": {},
   "source": [
    "After running the above code snippet you should see a `heavyeffects.so` or `heavyeffects.dll` in `/source`"
   ]
  },
  {
   "metadata": {},
   "cell_type": "markdown",
   "source": [
    "# `sound_board.py`\n",
    "This script is for creating and using a soundboard.\n",
    "# `player.py`\n",
    "This script adds a CLI music player with playlist support.\n",
    "# `url_player.py`\n",
    "Allows you to download Youtube videos via yt-dlp (add cookies.txt into the `/source` directory for age-restricted content)."
   ],
   "id": "bcaf5543e738c7df"
  }
 ],
 "metadata": {
  "kernelspec": {
   "display_name": "Python 3 (ipykernel)",
   "language": "python",
   "name": "python3"
  },
  "language_info": {
   "codemirror_mode": {
    "name": "ipython",
    "version": 3
   },
   "file_extension": ".py",
   "mimetype": "text/x-python",
   "name": "python",
   "nbconvert_exporter": "python",
   "pygments_lexer": "ipython3",
   "version": "3.10.11"
  }
 },
 "nbformat": 4,
 "nbformat_minor": 5
}
