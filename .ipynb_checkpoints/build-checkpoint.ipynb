{
 "cells": [
  {
   "metadata": {},
   "cell_type": "markdown",
   "source": [
    "# Mic-Suite\n",
    "###### *Your solution to an incredibly specific problem.*\n",
    "## Overview\n",
    "Mic-Suite (formerly VRC-Mic-Suite) is a set of python scripts that perform various audio operations. The main purpose of this project is to put audio and your microphone into a single audio loopback device. I usually use a physical cable, but something like [VB-Cable](https://vb-audio.com/Cable/) will work fine and probably better.\n",
    "## Building\n",
    "The `/source/mic.py` Python script relies upon a `/source/heavyeffects.cpp` which you have to build first before you can use `/source/mic.py`. Run the `jupyter` code segments below to do this:"
   ],
   "id": "efeffdee1d2db9f"
  },
  {
   "metadata": {},
   "cell_type": "markdown",
   "source": "On Windows (make sure you have MSVC installed):",
   "id": "9406251b32d77d62"
  },
  {
   "metadata": {},
   "cell_type": "code",
   "outputs": [],
   "execution_count": null,
   "source": [
    "%%powershell\n",
    "& \"C:\\Program Files (x86)\\Microsoft Visual Studio\\2022\\BuildTools\\VC\\Auxiliary\\Build\\vcvarsall.bat\" x64\n",
    "cl /LD /O2 \"source\\heavyeffects.cpp\" /Fe:\"source\\heavyeffects.dll\""
   ],
   "id": "a4f8a4d1c1d48730"
  },
  {
   "metadata": {},
   "cell_type": "markdown",
   "source": "On linux (make sure you have g++ installed):",
   "id": "3ec2fdb8c4a5dce3"
  },
  {
   "metadata": {},
   "cell_type": "code",
   "outputs": [],
   "execution_count": null,
   "source": [
    "%%bash\n",
    "g++ -O2 -fPIC -shared source/heavyeffects.cpp -o source/heavyeffects.so"
   ],
   "id": "64f28a034989962c"
  }
 ],
 "metadata": {},
 "nbformat": 4,
 "nbformat_minor": 5
}
